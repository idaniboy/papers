{
 "cells": [
  {
   "cell_type": "markdown",
   "metadata": {
    "collapsed": false
   },
   "source": [
    "This code produces the Figure 3: \"Relative errors of damping ratios identified from noisy signals\n",
    "using different transforms\" from the article:\n",
    "\n",
    "Marko Mihalec, Janko Slavič and Miha Boltežar,\n",
    "Synchrosqueezed Wavelet Transform for Damping Identification,\n",
    "Mechanical Systems and Signal Processing (2016),\n",
    "10.1016/j.ymssp.2016.05.005."
   ]
  },
  {
   "cell_type": "code",
   "execution_count": null,
   "metadata": {
    "collapsed": false
   },
   "outputs": [],
   "source": [
    "import numpy as np\n",
    "from dampingid import wt_damping_id\n",
    "import matplotlib.pyplot as plt\n",
    "%matplotlib inline"
   ]
  },
  {
   "cell_type": "code",
   "execution_count": null,
   "metadata": {
    "collapsed": false
   },
   "outputs": [],
   "source": [
    "A=1\n",
    "w=20 #[Hz]\n",
    "zeta=0.02\n",
    "t=np.linspace(0,2,600)"
   ]
  },
  {
   "cell_type": "code",
   "execution_count": null,
   "metadata": {
    "collapsed": false
   },
   "outputs": [],
   "source": [
    "n=100 #number of samples to be generated. \n",
    "vSNR=np.zeros(n)\n",
    "errcwt=np.zeros(n)\n",
    "errswt=np.zeros(n)\n",
    "errswt_avg=np.zeros(n)\n",
    "errswt_prop=np.zeros(n)\n",
    "\n",
    "for i,B in enumerate(np.logspace(-0.9,0.7,n)):\n",
    "\n",
    "    xsig = A*np.sin(w*2*np.pi*t)*np.exp(-2*np.pi*w*zeta*t) #generated signal\n",
    "    xnoise = B*(np.random.rand(len(t))-0.5) #generated noise\n",
    "    varsig=np.std(xsig)**2 # variance of signal\n",
    "    varnoise=np.std(xnoise)**2 #variance of noise\n",
    "    vSNR[i] = 10*np.log10(varsig/varnoise) # signal to noise ratio\n",
    "\n",
    "    x=xsig+xnoise \n",
    "    WT = wt_damping_id(x,t,np.linspace(15,25,100),5)\n",
    "\n",
    "    errcwt[i] = abs(0.02-WT.ident('cwt',50)[1])/0.02*100 #error using the CWT\n",
    "    errswt[i] = abs(0.02-WT.ident('swt',50)[1])/0.02*100 #error using the SWT\n",
    "    errswt_avg[i] = abs(0.02-WT.ident('swt_avg',50)[1])/0.02*100 #error using the averaged SWT\n",
    "    errswt_prop[i] = abs(0.02-WT.ident('swt_prop',50)[1])/0.02*100 #error using the proportional SWT"
   ]
  },
  {
   "cell_type": "code",
   "execution_count": null,
   "metadata": {
    "collapsed": false
   },
   "outputs": [],
   "source": [
    "_ = vSNR.argsort()\n",
    "svSNR = vSNR[_] #sorting the SNR ascending\n",
    "serrcwt = errcwt[_] #sorting accordingly to SNR\n",
    "serrswt = errswt[_] #sorting accordingly to SNR\n",
    "serrswt_avg = errswt_avg[_] #sorting accordingly to SNR\n",
    "serrswt_prop = errswt_prop[_] #sorting accordingly to SNR"
   ]
  },
  {
   "cell_type": "code",
   "execution_count": null,
   "metadata": {
    "collapsed": false
   },
   "outputs": [],
   "source": [
    "plt.figure(num=None, figsize=(5, 3), dpi=300, facecolor='w', edgecolor='k')\n",
    "plt.plot(svSNR[15:-15],np.convolve(serrswt,np.ones((31))/31., mode='valid'),'y-*',ms=10,markevery=10,lw=2,label='SWT')\n",
    "plt.plot(svSNR[15:-15],np.convolve(serrcwt,np.ones((31))/31., mode='valid'),'ro-',ms=7,markevery=10,lw=2,label='CWT')\n",
    "plt.plot(svSNR[15:-15],np.convolve(serrswt_avg,np.ones((31))/31., mode='valid'),'g-^',ms=7,markevery=10,lw=2,label='averaged SWT')\n",
    "plt.plot(svSNR[15:-15],np.convolve(serrswt_prop,np.ones((31))/31., mode='valid'),'b-s',ms=7,markevery=10,lw=2,label='proportional SWT')\n",
    "plt.gca().invert_xaxis()\n",
    "plt.ylim(0,80)\n",
    "plt.xlabel('SNR [dB]')\n",
    "plt.ylabel('error [%]')\n",
    "plt.legend(loc=2)\n",
    "plt.title('Error of identified damping ratio')"
   ]
  },
  {
   "cell_type": "code",
   "execution_count": null,
   "metadata": {
    "collapsed": true
   },
   "outputs": [],
   "source": []
  }
 ],
 "metadata": {
  "kernelspec": {
   "display_name": "Python 3",
   "language": "python",
   "name": "python3"
  },
  "language_info": {
   "codemirror_mode": {
    "name": "ipython",
    "version": 3
   },
   "file_extension": ".py",
   "mimetype": "text/x-python",
   "name": "python",
   "nbconvert_exporter": "python",
   "pygments_lexer": "ipython3",
   "version": "3.5.1"
  }
 },
 "nbformat": 4,
 "nbformat_minor": 0
}
